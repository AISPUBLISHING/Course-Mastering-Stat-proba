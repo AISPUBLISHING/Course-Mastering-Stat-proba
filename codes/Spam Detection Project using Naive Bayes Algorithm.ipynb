{
 "cells": [
  {
   "cell_type": "code",
   "execution_count": 1,
   "id": "db956ebd",
   "metadata": {},
   "outputs": [],
   "source": [
    "spam = [\n",
    "    \"To use your credit, click the new WAP link in the next years txt message or click here\", \n",
    "    \"Thanks for your subscription to New Ringtone UK your new mobile will be charged £5/month Please confirm annoncement by replying\", \n",
    "    \"As a valued customer, I am pleased to advise you that following recent delivery waiting review of your Mob No. you are awarded with. Call us to review.\", \n",
    "    \"Please call our new customer service representative on\", \n",
    "    \"We are trying to contact you. Last weekends customer draw shows that you won a £1000 prize GUARANTEED. Calling years\", \n",
    "]"
   ]
  },
  {
   "cell_type": "code",
   "execution_count": 2,
   "id": "e4785122",
   "metadata": {},
   "outputs": [],
   "source": [
    "spam_test = [\"Customer service annoncement. You have a New Years delivery waiting for you. click\"]"
   ]
  },
  {
   "cell_type": "code",
   "execution_count": 3,
   "id": "ab52c5e8",
   "metadata": {},
   "outputs": [],
   "source": [
    "non = [\n",
    "    \"I don't think he goes to usf, he lives around here though\", \n",
    "    \"New car and house for my parents. i have only new job in hand\", \n",
    "    \"Great escape. I fancy the bridge but needs her lager. See you tomorrow\", \n",
    "    \"Tired. I haven't slept well the past few nights.\",\n",
    "    \"Too late. I said i have the website. I didn't i have or dont have the slippers\", \n",
    "    \"I might come by tonight then if my class lets out early\", \n",
    "    \"Jos ask if u wana meet up?\", \n",
    "    \"That would be great. We'll be at the Guild. We can try meeting with the customer on Bristol road or somewhere\"\n",
    "    ]"
   ]
  },
  {
   "cell_type": "code",
   "execution_count": 4,
   "id": "6f5f8809",
   "metadata": {},
   "outputs": [],
   "source": [
    "spam_test_2 = [\"That would be great. We'll be at the Guild. We can try meeting with the customer on Bristol road or somewhere\"]"
   ]
  },
  {
   "cell_type": "code",
   "execution_count": null,
   "id": "4f1147b4",
   "metadata": {},
   "outputs": [],
   "source": [
    "# !pip install gensim"
   ]
  },
  {
   "cell_type": "code",
   "execution_count": 5,
   "id": "df3f9c8b",
   "metadata": {},
   "outputs": [
    {
     "name": "stderr",
     "output_type": "stream",
     "text": [
      "C:\\Users\\lenovo\\anaconda3\\envs\\saad\\lib\\site-packages\\gensim\\similarities\\__init__.py:15: UserWarning: The gensim.similarities.levenshtein submodule is disabled, because the optional Levenshtein package <https://pypi.org/project/python-Levenshtein/> is unavailable. Install Levenhstein (e.g. `pip install python-Levenshtein`) to suppress this warning.\n",
      "  warnings.warn(msg)\n"
     ]
    }
   ],
   "source": [
    "from gensim.parsing.preprocessing import remove_stopwords\n",
    "from gensim.parsing.porter import PorterStemmer\n",
    "from gensim.utils import tokenize"
   ]
  },
  {
   "cell_type": "code",
   "execution_count": 6,
   "id": "445e69a1",
   "metadata": {},
   "outputs": [
    {
     "name": "stdout",
     "output_type": "stream",
     "text": [
      "Thanks for your subscription to New Ringtone UK your new mobile will be charged £5/month Please confirm annoncement by replying\n"
     ]
    }
   ],
   "source": [
    "test_sentence = spam[1]\n",
    "print(test_sentence)"
   ]
  },
  {
   "cell_type": "code",
   "execution_count": 8,
   "id": "b050f58c",
   "metadata": {},
   "outputs": [
    {
     "name": "stdout",
     "output_type": "stream",
     "text": [
      "Thanks subscription New Ringtone UK new mobile charged £5/month Please confirm annoncement replying\n"
     ]
    }
   ],
   "source": [
    "stops = remove_stopwords(test_sentence)\n",
    "print(stops)"
   ]
  },
  {
   "cell_type": "code",
   "execution_count": 9,
   "id": "0e37ec0e",
   "metadata": {},
   "outputs": [
    {
     "name": "stdout",
     "output_type": "stream",
     "text": [
      "thanks subscription new ringtone uk new mobile charged £5/month please confirm annoncement repli\n"
     ]
    }
   ],
   "source": [
    "p=PorterStemmer()\n",
    "stemmed = p.stem(stops)\n",
    "print(stemmed)"
   ]
  },
  {
   "cell_type": "code",
   "execution_count": 10,
   "id": "b04750b4",
   "metadata": {},
   "outputs": [
    {
     "name": "stdout",
     "output_type": "stream",
     "text": [
      "['thanks', 'subscription', 'new', 'ringtone', 'uk', 'new', 'mobile', 'charged', 'month', 'please', 'confirm', 'annoncement', 'repli']\n"
     ]
    }
   ],
   "source": [
    "tokens = tokenize(stemmed)\n",
    "print(list(tokens))"
   ]
  },
  {
   "cell_type": "code",
   "execution_count": 11,
   "id": "2072364f",
   "metadata": {},
   "outputs": [],
   "source": [
    "def tokenize_sentence(sentence): \n",
    "    p = PorterStemmer()\n",
    "    removed_stops = remove_stopwords(sentence)\n",
    "    stemmed = p.stem(removed_stops)\n",
    "    tokens = tokenize(stemmed)\n",
    "    return list(tokens)"
   ]
  },
  {
   "cell_type": "code",
   "execution_count": 12,
   "id": "87129bf1",
   "metadata": {},
   "outputs": [],
   "source": [
    "dictionary = set()\n",
    "spams_tokenized = []\n",
    "nons_tokenized = []\n",
    "\n",
    "for sentence in spam:\n",
    "    sentence_tokens = tokenize_sentence(sentence)\n",
    "    spams_tokenized.append(sentence_tokens)\n",
    "    dictionary = dictionary.union(sentence_tokens)\n",
    "    \n",
    "for sentence in non:      \n",
    "    sentence_tokens = tokenize_sentence(sentence)\n",
    "    nons_tokenized.append(sentence_tokens)\n",
    "    dictionary  = dictionary.union(sentence_tokens)"
   ]
  },
  {
   "cell_type": "code",
   "execution_count": 13,
   "id": "e6bd192b",
   "metadata": {},
   "outputs": [
    {
     "name": "stdout",
     "output_type": "stream",
     "text": [
      "[['to', 'use', 'credit', 'click', 'new', 'wap', 'link', 'years', 'txt', 'message', 'click'], ['thanks', 'subscription', 'new', 'ringtone', 'uk', 'new', 'mobile', 'charged', 'month', 'please', 'confirm', 'annoncement', 'repli'], ['as', 'valued', 'customer', 'i', 'pleased', 'advise', 'following', 'recent', 'delivery', 'waiting', 'review', 'mob', 'no', 'awarded', 'with', 'call', 'review'], ['please', 'new', 'customer', 'service', 'repres'], ['we', 'trying', 'contact', 'you', 'last', 'weekends', 'customer', 'draw', 'shows', 'won', 'prize', 'guaranteed', 'calling', 'year']]\n"
     ]
    }
   ],
   "source": [
    "print(spams_tokenized)"
   ]
  },
  {
   "cell_type": "code",
   "execution_count": 15,
   "id": "43d8384a",
   "metadata": {},
   "outputs": [
    {
     "name": "stdout",
     "output_type": "stream",
     "text": [
      "[['i', 'don', 't', 'think', 'goes', 'usf', 'l'], ['new', 'car', 'house', 'parents', 'new', 'job', 'hand'], ['great', 'escape', 'i', 'fancy', 'bridge', 'needs', 'lager', 'see', 'tomorrow'], ['tired', 'i', 'haven', 't', 'slept', 'past', 'nights'], ['too', 'late', 'i', 'said', 'website', 'i', 'didn', 't', 'dont', 'slipp'], ['i', 'come', 'tonight', 'class', 'lets', 'earli'], ['jos', 'ask', 'u', 'wana', 'meet', 'up'], ['that', 'great', 'we', 'll', 'guild', 'we', 'try', 'meeting', 'customer', 'bristol', 'road']]\n"
     ]
    }
   ],
   "source": [
    "print(nons_tokenized)"
   ]
  },
  {
   "cell_type": "code",
   "execution_count": 16,
   "id": "51904cff",
   "metadata": {},
   "outputs": [
    {
     "name": "stdout",
     "output_type": "stream",
     "text": [
      "{'escape', 'tired', 'great', 'll', 'wap', 'txt', 'following', 'charged', 'parents', 'link', 'slept', 'to', 'house', 'nights', 'ringtone', 'no', 'with', 'you', 'use', 'credit', 'ask', 'new', 'thanks', 't', 'hand', 'valued', 'awarded', 'website', 'jos', 'waiting', 'come', 'needs', 'i', 'usf', 'lager', 'see', 'mobile', 'dont', 'pleased', 'contact', 'guaranteed', 'lets', 'draw', 'too', 'up', 'uk', 'meet', 'customer', 'late', 'earli', 'weekends', 'annoncement', 'as', 'we', 'tomorrow', 'slipp', 'year', 'bridge', 'won', 'repres', 'said', 'car', 'last', 'tonight', 'mob', 'calling', 'past', 'u', 'prize', 'fancy', 'recent', 'think', 'try', 'trying', 'delivery', 'that', 'meeting', 'haven', 'month', 'years', 'advise', 'repli', 'review', 'service', 'call', 'don', 'shows', 'bristol', 'goes', 'confirm', 'click', 'please', 'road', 'message', 'job', 'wana', 'l', 'class', 'guild', 'subscription', 'didn'}\n"
     ]
    }
   ],
   "source": [
    "print(dictionary)"
   ]
  },
  {
   "cell_type": "code",
   "execution_count": 17,
   "id": "cb80dab2",
   "metadata": {},
   "outputs": [
    {
     "name": "stdout",
     "output_type": "stream",
     "text": [
      "101\n"
     ]
    }
   ],
   "source": [
    "total_word_counts = len(dictionary)\n",
    "total_spam_messages = len(spams_tokenized)\n",
    "total_all_messages = len(spams_tokenized) + len(nons_tokenized)\n",
    "print(total_word_counts)"
   ]
  },
  {
   "cell_type": "code",
   "execution_count": 18,
   "id": "aa417e3f",
   "metadata": {},
   "outputs": [
    {
     "name": "stdout",
     "output_type": "stream",
     "text": [
      "0.38461538461538464\n"
     ]
    }
   ],
   "source": [
    "p_spam = total_spam_messages/total_all_messages\n",
    "print(p_spam)"
   ]
  },
  {
   "cell_type": "code",
   "execution_count": 19,
   "id": "3b89b3fc",
   "metadata": {},
   "outputs": [],
   "source": [
    "def count_word_in_messages(word, messages): \n",
    "    total_count = 0\n",
    "    for msg in messages: \n",
    "        if word in msg:       # notice this ensured uniqueness automatically  \n",
    "            total_count += 1 \n",
    "            \n",
    "    return total_count "
   ]
  },
  {
   "cell_type": "code",
   "execution_count": 20,
   "id": "1e2bc0e1",
   "metadata": {},
   "outputs": [
    {
     "name": "stdout",
     "output_type": "stream",
     "text": [
      "['that', 'great', 'we', 'll', 'guild', 'we', 'try', 'meeting', 'customer', 'bristol', 'road']\n",
      "----------------\n",
      "Runnig for word: that\n",
      "P( w | spam)  =  0.0\n",
      "P( w )        =  0.07692307692307693\n",
      "P( spam )     =  0.38461538461538464\n",
      "P( spam | w ) =  0.0\n",
      "\n",
      "----------------\n",
      "Runnig for word: great\n",
      "P( w | spam)  =  0.0\n",
      "P( w )        =  0.15384615384615385\n",
      "P( spam )     =  0.38461538461538464\n",
      "P( spam | w ) =  0.0\n",
      "\n",
      "----------------\n",
      "Runnig for word: we\n",
      "P( w | spam)  =  0.2\n",
      "P( w )        =  0.15384615384615385\n",
      "P( spam )     =  0.38461538461538464\n",
      "P( spam | w ) =  0.5\n",
      "\n",
      "----------------\n",
      "Runnig for word: ll\n",
      "P( w | spam)  =  0.0\n",
      "P( w )        =  0.07692307692307693\n",
      "P( spam )     =  0.38461538461538464\n",
      "P( spam | w ) =  0.0\n",
      "\n",
      "----------------\n",
      "Runnig for word: guild\n",
      "P( w | spam)  =  0.0\n",
      "P( w )        =  0.07692307692307693\n",
      "P( spam )     =  0.38461538461538464\n",
      "P( spam | w ) =  0.0\n",
      "\n",
      "----------------\n",
      "Runnig for word: we\n",
      "P( w | spam)  =  0.2\n",
      "P( w )        =  0.15384615384615385\n",
      "P( spam )     =  0.38461538461538464\n",
      "P( spam | w ) =  0.5\n",
      "\n",
      "----------------\n",
      "Runnig for word: try\n",
      "P( w | spam)  =  0.0\n",
      "P( w )        =  0.07692307692307693\n",
      "P( spam )     =  0.38461538461538464\n",
      "P( spam | w ) =  0.0\n",
      "\n",
      "----------------\n",
      "Runnig for word: meeting\n",
      "P( w | spam)  =  0.0\n",
      "P( w )        =  0.07692307692307693\n",
      "P( spam )     =  0.38461538461538464\n",
      "P( spam | w ) =  0.0\n",
      "\n",
      "----------------\n",
      "Runnig for word: customer\n",
      "P( w | spam)  =  0.6\n",
      "P( w )        =  0.3076923076923077\n",
      "P( spam )     =  0.38461538461538464\n",
      "P( spam | w ) =  0.75\n",
      "\n",
      "----------------\n",
      "Runnig for word: bristol\n",
      "P( w | spam)  =  0.0\n",
      "P( w )        =  0.07692307692307693\n",
      "P( spam )     =  0.38461538461538464\n",
      "P( spam | w ) =  0.0\n",
      "\n",
      "----------------\n",
      "Runnig for word: road\n",
      "P( w | spam)  =  0.0\n",
      "P( w )        =  0.07692307692307693\n",
      "P( spam )     =  0.38461538461538464\n",
      "P( spam | w ) =  0.0\n",
      "\n",
      "P( spam | all_words ) =  0.0\n"
     ]
    }
   ],
   "source": [
    "final_prob = 1   # can't start from 0 \n",
    "\n",
    "\n",
    "for test_sentence in spam_test_2: \n",
    "    test_sentence = tokenize_sentence(test_sentence)\n",
    "    print(test_sentence)\n",
    "    \n",
    "    # let's run this for each word separately \n",
    "    for word in test_sentence: \n",
    "        print(\"----------------\")\n",
    "        print(\"Runnig for word:\", word)\n",
    "        \n",
    "        # Find P( w | spam)\n",
    "        spam_count = count_word_in_messages(word, spams_tokenized)\n",
    "        p_w_spam = spam_count / total_spam_messages \n",
    "        print(\"P( w | spam)  = \", p_w_spam)\n",
    "        \n",
    "        # Find P( w )\n",
    "        w_count = count_word_in_messages(word, spams_tokenized)\n",
    "        w_count += count_word_in_messages(word, nons_tokenized)\n",
    "        p_w = w_count / total_all_messages\n",
    "        print(\"P( w )        = \", p_w)\n",
    "        \n",
    "        \n",
    "        # Find P( spam | w )\n",
    "        p_spam_w = (p_w_spam * p_spam) / p_w\n",
    "        print(\"P( spam )     = \", p_spam)\n",
    "        print(\"P( spam | w ) = \", p_spam_w)\n",
    "        print(\"\")\n",
    "        final_prob *= p_spam_w\n",
    "        \n",
    "        \n",
    "    print(\"P( spam | all_words ) = \", final_prob)"
   ]
  },
  {
   "cell_type": "code",
   "execution_count": null,
   "id": "13bc303f",
   "metadata": {},
   "outputs": [],
   "source": []
  },
  {
   "cell_type": "code",
   "execution_count": null,
   "id": "974e434d",
   "metadata": {},
   "outputs": [],
   "source": []
  },
  {
   "cell_type": "code",
   "execution_count": null,
   "id": "276dce54",
   "metadata": {},
   "outputs": [],
   "source": []
  },
  {
   "cell_type": "code",
   "execution_count": null,
   "id": "8ebe786e",
   "metadata": {},
   "outputs": [],
   "source": []
  },
  {
   "cell_type": "code",
   "execution_count": null,
   "id": "4dc394df",
   "metadata": {},
   "outputs": [],
   "source": []
  },
  {
   "cell_type": "code",
   "execution_count": null,
   "id": "ca1c7c6c",
   "metadata": {},
   "outputs": [],
   "source": []
  },
  {
   "cell_type": "code",
   "execution_count": null,
   "id": "0dd15659",
   "metadata": {},
   "outputs": [],
   "source": []
  }
 ],
 "metadata": {
  "kernelspec": {
   "display_name": "Python 3 (ipykernel)",
   "language": "python",
   "name": "python3"
  },
  "language_info": {
   "codemirror_mode": {
    "name": "ipython",
    "version": 3
   },
   "file_extension": ".py",
   "mimetype": "text/x-python",
   "name": "python",
   "nbconvert_exporter": "python",
   "pygments_lexer": "ipython3",
   "version": "3.8.11"
  }
 },
 "nbformat": 4,
 "nbformat_minor": 5
}
